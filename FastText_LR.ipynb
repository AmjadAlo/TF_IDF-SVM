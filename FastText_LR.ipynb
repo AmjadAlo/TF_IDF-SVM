{
 "cells": [
  {
   "cell_type": "code",
   "execution_count": 1,
   "metadata": {},
   "outputs": [
    {
     "name": "stderr",
     "output_type": "stream",
     "text": [
      "[nltk_data] Downloading package stopwords to\n",
      "[nltk_data]     C:\\Users\\Hano\\AppData\\Roaming\\nltk_data...\n",
      "[nltk_data]   Package stopwords is already up-to-date!\n"
     ]
    },
    {
     "name": "stdout",
     "output_type": "stream",
     "text": [
      "Model Accuracy: 0.9811\n"
     ]
    }
   ],
   "source": [
    "import re\n",
    "import string\n",
    "import pandas as pd\n",
    "import nltk\n",
    "from nltk.corpus import stopwords\n",
    "from gensim.models import FastText\n",
    "from sklearn.model_selection import train_test_split , learning_curve\n",
    "from sklearn.linear_model import LogisticRegression\n",
    "from sklearn.metrics import accuracy_score\n",
    "import numpy as np\n",
    "\n",
    "# Download NLTK stopwords\n",
    "nltk.download('stopwords')\n",
    "stop_words = set(stopwords.words('english'))\n",
    "\n",
    "# Load dataset\n",
    "df = pd.read_csv(\"data.csv\")\n",
    "\n",
    "# Apply text preprocessing\n",
    "df[\"text_clean\"] = df[\"text\"].str.lower()\n",
    "df[\"text_clean\"] = df[\"text_clean\"].str.replace(r'\\d+', '', regex=True)\n",
    "df[\"text_clean\"] = df[\"text_clean\"].str.translate(str.maketrans('', '', string.punctuation))\n",
    "df[\"text_clean\"] = df[\"text_clean\"].apply(lambda text: ' '.join([word for word in text.split() if word not in stop_words]))\n",
    "\n",
    "# Tokenize text for FastText\n",
    "sentences = [text.split() for text in df[\"text_clean\"]]\n",
    "\n",
    "# Train FastText model\n",
    "fasttext_model = FastText(sentences, vector_size=500, window=10, min_count=2, workers=20, sg=0)\n",
    "\n",
    "# Function to get sentence vectors\n",
    "def get_sentence_vector(words, model):\n",
    "    vectors = [model.wv[word] for word in words if word in model.wv]\n",
    "    return np.mean(vectors, axis=0) if vectors else np.zeros(model.vector_size)\n",
    "\n",
    "# Convert text data to FastText feature vectors\n",
    "X_vectors = np.array([get_sentence_vector(text.split(), fasttext_model) for text in df[\"text_clean\"]])\n",
    "\n",
    "# Split data\n",
    "X_train, X_test, y_train, y_test = train_test_split(X_vectors, df[\"label\"], test_size=0.2, random_state=42)\n",
    "\n",
    "# Train Logistic Regression Model\n",
    "model = LogisticRegression(max_iter=500)\n",
    "model.fit(X_train, y_train)\n",
    "\n",
    "# Evaluate\n",
    "y_pred = model.predict(X_test)\n",
    "accuracy = accuracy_score(y_test, y_pred)\n",
    "print(f\"Model Accuracy: {accuracy:.4f}\")"
   ]
  },
  {
   "cell_type": "code",
   "execution_count": 3,
   "metadata": {},
   "outputs": [
    {
     "data": {
      "text/plain": [
       "'\\nvector_size: The dimensionality of the word vectors.\\nwindow: The size of the context window used to predict words.\\nmin_count: The minimum frequency a word must have to be considered in the model.\\nworkers: The number of CPU cores to use for training.\\nsg: The training algorithm (0 for CBOW, 1 for Skip-gram)\\n\\n'"
      ]
     },
     "execution_count": 3,
     "metadata": {},
     "output_type": "execute_result"
    }
   ],
   "source": [
    "'''\n",
    "vector_size: The dimensionality of the word vectors.\n",
    "window: The size of the context window used to predict words.\n",
    "min_count: The minimum frequency a word must have to be considered in the model.\n",
    "workers: The number of CPU cores to use for training.\n",
    "sg: The training algorithm (0 for CBOW, 1 for Skip-gram)\n",
    "\n",
    "'''"
   ]
  },
  {
   "cell_type": "code",
   "execution_count": 4,
   "metadata": {},
   "outputs": [],
   "source": [
    "from sklearn.model_selection import train_test_split , learning_curve\n",
    "import matplotlib.pyplot as plt\n"
   ]
  },
  {
   "cell_type": "code",
   "execution_count": 9,
   "metadata": {},
   "outputs": [],
   "source": [
    "import json\n",
    "\n",
    "accuracy = 0.9811 \n",
    "with open(\"accuracy_FastText_LR.json\", \"w\") as f:\n",
    "    json.dump({\"accuracy\": accuracy}, f)"
   ]
  }
 ],
 "metadata": {
  "kernelspec": {
   "display_name": "Python 3",
   "language": "python",
   "name": "python3"
  },
  "language_info": {
   "codemirror_mode": {
    "name": "ipython",
    "version": 3
   },
   "file_extension": ".py",
   "mimetype": "text/x-python",
   "name": "python",
   "nbconvert_exporter": "python",
   "pygments_lexer": "ipython3",
   "version": "3.11.9"
  }
 },
 "nbformat": 4,
 "nbformat_minor": 2
}
